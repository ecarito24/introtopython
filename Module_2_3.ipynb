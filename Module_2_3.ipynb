{Hi all, I suck at this
 "cells": [
  {
   "cell_type": "markdown",
   "metadata": {},
   "source": [
    "# Module 2 and 3 - Vocareum Assignment\n",
    "\n",
    "**_Author: Jessica Cervi_**"
   ]
  },
  {
   "cell_type": "markdown",
   "metadata": {},
   "source": [
    "Hello! In this notebook we will:\n",
    "\n",
    "- Familiarize with Vocareum and Jupyter Notebooks.\n",
    "- Test your knowledge about the material covered in Module 2.\n",
    "- Test your knowledge about the material covered in Module 3."
   ]
  },
  {
   "cell_type": "markdown",
   "metadata": {},
   "source": [
    "**Expected time = 2 hours**\n",
    "\n",
    "## Index:\n",
    "\n",
    "#### Module 2: Data types:\n",
    "\n",
    "- [Question 1](#Question-1)\n",
    "- [Question 2](#Question-2)\n",
    "- [Question 3](#Question-3)\n",
    "- [Question 4](#Question-4)\n",
    "- [Question 5](#Question-5)\n",
    "- [Question 6](#Question-6)\n",
    "- [Question 7](#Question-7)\n",
    "- [Question 8](#Question-8)\n",
    "- [Question 9](#Question-9)\n",
    "- [Question 10](#Question-10)\n",
    "- [Question 11](#Question-11)\n",
    "- [Question 12](#Question-12)\n",
    "\n",
    "\n",
    "#### Module 3: Functions:\n",
    "- [Question 13](#Question-13)\n",
    "- [Question 14](#Question-14)\n",
    "- [Question 15](#Question-15)\n",
    "- [Question 16](#Question-16)\n",
    "- [Question 16](#Question-16)\n",
    "- [Question 17](#Question-17)\n",
    "- [Question 18](#Question-18)\n",
    "- [Question 19](#Question-19)\n",
    "- [Question 20](#Question-20)\n",
    "- [Question 21](#Question-21)"
   ]
  },
  {
   "cell_type": "markdown",
   "metadata": {},
   "source": [
    "## Instructions:\n",
    "\n",
    "All the questions in the assigments will be graded automatically and you will have the chance to fix yor solutions many times in order to get the expected output. Make sure to follow the steps carefully (and don't delete or change anything unless you're asked to).\n",
    "\n",
    "Question 0 is designed and solved for you to understand how to complete this and the next assignments.\n",
    "\n",
    "Below you can see the structure of the questions. In the markdown cell just before the question, you will see the question number and the description of what it is asked. \n",
    "\n",
    "Next, there is a code cell startin with the comment: `### GRADED`. This means that the cell will  be autograded.\n",
    "\n",
    "The line `###BEGIN SOLUTION` tells you where to write your solution. You can use as many auxiliary variables and additional code as you need. Note that we have already initialized the answer variables that you will need for you final answer. These variables and assigned them to `None`, this is to avoid errors when typing the variable names that contain the results. You can replace the value `None` with the actual answer or redefine it below.\n",
    "\n",
    "Finally, you will see a second code cell with the autograded solution. **DO NOT CHANGE ANYTHING IN THAT CELL**\n",
    "\n",
    "\n",
    "### Question 0:\n",
    "Assign the String `\"hello\"` to the variable `var`:\n"
   ]
  },
  {
   "cell_type": "code",
   "execution_count": 5,
   "metadata": {},
   "outputs": [],
   "source": [
    "### GRADED\n",
    "\n",
    "### YOUR SOLUTION HERE\n",
    "var = None ## edit code here, i.e., set var = \"hello\"\n",
    "\n",
    "### BEGIN SOLUTION\n",
    "var = \"hello\"\n",
    "### END SOLUTION"
   ]
  },
  {
   "cell_type": "code",
   "execution_count": 6,
   "metadata": {},
   "outputs": [],
   "source": [
    "### BEGIN HIDDEN TESTS\n",
    "var_ = \"hello\"\n",
    "#\n",
    "#\n",
    "#\n",
    "assert var_ == var\n",
    "### END HIDDEN TESTS"
   ]
  },
  {
   "cell_type": "markdown",
   "metadata": {},
   "source": [
    "\n",
    "## Module 2: Data types\n",
    "\n",
    "In the first part of this assignment, we will be testing your knowledge of the topics covered in Module 2, such as basic data types (`int`, `floats`, and `str`) as well as lists, tuples and dictonaries."
   ]
  },
  {
   "cell_type": "markdown",
   "metadata": {},
   "source": [
    "As you have learned, float are data types designed to store decimal numbers.\n",
    "\n",
    "[Back to top](#Index:) \n",
    "\n",
    "### Question 1\n",
    "Assign the value of 175 multiplied by 16.28 to the variable `ans1` and make sure it's stored as a float."
   ]
  },
  {
   "cell_type": "code",
   "execution_count": 7,
   "metadata": {},
   "outputs": [
    {
     "data": {
      "text/plain": [
       "float"
      ]
     },
     "execution_count": 7,
     "metadata": {},
     "output_type": "execute_result"
    }
   ],
   "source": [
    "### GRADED\n",
    "\n",
    "### YOUR SOLUTION HERE\n",
    "ans1 = None\n",
    "\n",
    "### BEGIN SOLUTION\n",
    "ans1 = 175*16.28\n",
    "type(ans1)\n",
    "### END SOLUTION"
   ]
  },
  {
   "cell_type": "code",
   "execution_count": 8,
   "metadata": {},
   "outputs": [],
   "source": [
    "### BEGIN HIDDEN TESTS\n",
    "ans1_ = 175*16.28\n",
    "#\n",
    "#\n",
    "#\n",
    "assert type(ans1_) == type(ans1)\n",
    "assert ans1_ == ans1\n",
    "### END HIDDEN TESTS"
   ]
  },
  {
   "cell_type": "markdown",
   "metadata": {},
   "source": [
    "[Back to top](#Index:) \n",
    "\n",
    "### Question 2\n",
    "Assign the value of 572 divided by 8.73 to the variable `ans2` and make sure it's stored as a float."
   ]
  },
  {
   "cell_type": "code",
   "execution_count": 9,
   "metadata": {},
   "outputs": [
    {
     "data": {
      "text/plain": [
       "float"
      ]
     },
     "execution_count": 9,
     "metadata": {},
     "output_type": "execute_result"
    }
   ],
   "source": [
    "### GRADED\n",
    "\n",
    "### YOUR SOLUTION HERE\n",
    "ans2 = None\n",
    "\n",
    "### BEGIN SOLUTION\n",
    "ans2 = 572/8.73\n",
    "type(ans2)\n",
    "### END SOLUTION"
   ]
  },
  {
   "cell_type": "code",
   "execution_count": 10,
   "metadata": {},
   "outputs": [],
   "source": [
    "### BEGIN HIDDEN TESTS\n",
    "ans2_ = 572/8.73\n",
    "#\n",
    "#\n",
    "#\n",
    "assert type(ans2_) == type(ans2)\n",
    "assert ans2_ == ans2\n",
    "### END HIDDEN TESTS"
   ]
  },
  {
   "cell_type": "markdown",
   "metadata": {},
   "source": [
    "Strings are data types designed to contain single characters or a series of them such as words or sentences.\n",
    "\n",
    "[Back to top](#Index:)  \n",
    "\n",
    "### Question 3\n",
    "\n",
    "Assign the sentence \"I am a student\" as a string to the variable `ans3`"
   ]
  },
  {
   "cell_type": "code",
   "execution_count": 12,
   "metadata": {},
   "outputs": [
    {
     "data": {
      "text/plain": [
       "str"
      ]
     },
     "execution_count": 12,
     "metadata": {},
     "output_type": "execute_result"
    }
   ],
   "source": [
    "### GRADED\n",
    "\n",
    "### YOUR SOLUTION HERE\n",
    "ans3 = None\n",
    "\n",
    "### BEGIN SOLUTION\n",
    "ans3 = 'I am a student'\n",
    "type(ans3)\n",
    "### END SOLUTION"
   ]
  },
  {
   "cell_type": "code",
   "execution_count": 13,
   "metadata": {},
   "outputs": [],
   "source": [
    "### BEGIN HIDDEN TESTS\n",
    "ans3_ = 'I am a student'\n",
    "#\n",
    "#\n",
    "#\n",
    "assert type(ans3_) == type(ans3)\n",
    "assert ans3_ == ans3\n",
    "### END HIDDEN TESTS"
   ]
  },
  {
   "cell_type": "markdown",
   "metadata": {},
   "source": [
    "As you have learned, int are data types designed to store integer numbers.\n",
    "\n",
    "[Back to top](#Index:) \n",
    "\n",
    "### Question 4\n",
    "\n",
    "Define the variable of type float `ans4 = 25.927` and convert it to an integer."
   ]
  },
  {
   "cell_type": "code",
   "execution_count": 14,
   "metadata": {},
   "outputs": [
    {
     "data": {
      "text/plain": [
       "25"
      ]
     },
     "execution_count": 14,
     "metadata": {},
     "output_type": "execute_result"
    }
   ],
   "source": [
    "### GRADED\n",
    "\n",
    "### YOUR SOLUTION HERE\n",
    "ans4 = None\n",
    "\n",
    "### BEGIN SOLUTION\n",
    "ans4 = 25.927\n",
    "int(ans4)\n",
    "### END SOLUTION"
   ]
  },
  {
   "cell_type": "code",
   "execution_count": 15,
   "metadata": {},
   "outputs": [],
   "source": [
    "### BEGIN HIDDEN TESTS\n",
    "ans4_ = 25.927\n",
    "int(ans4_)\n",
    "#\n",
    "#\n",
    "#\n",
    "assert type(ans4_) == type(ans4)\n",
    "assert ans4_ == ans4\n",
    "### END HIDDEN TESTS"
   ]
  },
  {
   "cell_type": "markdown",
   "metadata": {},
   "source": [
    "In Python, a list is a collection of elements which is ordered and **changeable**. Lists can contain integers, floats, strings, other lists, and so on.\n",
    "\n",
    "[Back to top](#Index:) \n",
    "\n",
    "### Question 5\n",
    "\n",
    "Create a list with the numbers `1,4,9,16,25` and assign it to a variable called `list_1`."
   ]
  },
  {
   "cell_type": "code",
   "execution_count": 20,
   "metadata": {},
   "outputs": [],
   "source": [
    "### GRADED\n",
    "\n",
    "### YOUR SOLUTION HERE\n",
    "list_1 = None\n",
    "\n",
    "### BEGIN SOLUTION\n",
    "list_1 = [1,4,9,16,25]\n",
    "### END SOLUTION"
   ]
  },
  {
   "cell_type": "code",
   "execution_count": 21,
   "metadata": {},
   "outputs": [],
   "source": [
    "### BEGIN HIDDEN TESTS\n",
    "list_1_ = [1,4,9,16,25]\n",
    "#\n",
    "#\n",
    "#\n",
    "assert type(list_1) == list\n",
    "assert list_1_ == list_1\n",
    "### END HIDDEN TESTS"
   ]
  },
  {
   "cell_type": "markdown",
   "metadata": {},
   "source": [
    "[Back to top](#Index:) \n",
    "\n",
    "### Question 6\n",
    "Create a list with the elements: `1, \"Hello\", 14, 5.6` and assign it to a variable called `list_2`."
   ]
  },
  {
   "cell_type": "code",
   "execution_count": 22,
   "metadata": {},
   "outputs": [],
   "source": [
    "### GRADED\n",
    "\n",
    "### YOUR SOLUTION HERE\n",
    "list_2 = None\n",
    "\n",
    "### BEGIN SOLUTION\n",
    "list_2 = [1, \"Hello\", 14, 5.6]\n",
    "### END SOLUTION"
   ]
  },
  {
   "cell_type": "code",
   "execution_count": 23,
   "metadata": {},
   "outputs": [],
   "source": [
    "### BEGIN HIDDEN TESTS\n",
    "list_2_ = [1, \"Hello\", 14, 5.6]\n",
    "#\n",
    "#\n",
    "#\n",
    "assert type(list_2) == list\n",
    "assert list_2_ == list_2\n",
    "### END HIDDEN TESTS"
   ]
  },
  {
   "cell_type": "markdown",
   "metadata": {},
   "source": [
    "It is also possible to define nested lists (i.e., a list inside another list). Additionally, lists can have repeated elements.\n",
    "\n",
    "[Back to top](#Index:) \n",
    "\n",
    "### Question 7\n",
    "\n",
    "Given `list_3 = [3,4,5]`, create a nested list that includes the elements `\"Columbia\", 11, 24.5, 3, list_3` and assign it to a variable called `list_4`."
   ]
  },
  {
   "cell_type": "code",
   "execution_count": 24,
   "metadata": {},
   "outputs": [],
   "source": [
    "### GRADED\n",
    "list_3 = [3]\n",
    "\n",
    "### YOUR SOLUTION HERE\n",
    "list_4 = None\n",
    "\n",
    "### BEGIN SOLUTION\n",
    "list_4 = [\"Columbia\", 11, 24.5, 3, list_3]\n",
    "### END SOLUTION"
   ]
  },
  {
   "cell_type": "code",
   "execution_count": 25,
   "metadata": {},
   "outputs": [],
   "source": [
    "### BEGIN HIDDEN TESTS\n",
    "list_4_ = [\"Columbia\", 11, 24.5, 3, list_3]\n",
    "#\n",
    "#\n",
    "#\n",
    "assert type(list_4) == list\n",
    "assert list_4_ == list_4\n",
    "### END HIDDEN TESTS"
   ]
  },
  {
   "cell_type": "markdown",
   "metadata": {},
   "source": [
    "You access the list items by referring to the index number. Remember, Python starts counting from 0, **not 1**. Additionally, negative indexing means beginning from the end: -1 refers to the last item, -2 refers to the second last item etc.\n",
    "\n",
    "[Back to top](#Index:) \n",
    "\n",
    "### Question 8\n",
    "\n",
    "Given `list_5 = [3,4,5,6,7,8,9]`, access the last element of the list and assign it to the variable `list_5_elem`"
   ]
  },
  {
   "cell_type": "code",
   "execution_count": 26,
   "metadata": {},
   "outputs": [],
   "source": [
    "### GRADED\n",
    "list_5 = [3,4,5,6,7,8,9]\n",
    "\n",
    "### YOUR SOLUTION HERE\n",
    "list_5_elem = None\n",
    "\n",
    "### BEGIN SOLUTION\n",
    "list_5_elem = list_5[-1]\n",
    "### END SOLUTION"
   ]
  },
  {
   "cell_type": "code",
   "execution_count": 27,
   "metadata": {},
   "outputs": [],
   "source": [
    "### BEGIN HIDDEN TESTS\n",
    "list_5_ = [3,4,5,6,7,8,9]\n",
    "list_5_elem_ = list_5_[-1]\n",
    "#\n",
    "#\n",
    "#\n",
    "assert list_5_elem_ == list_5_elem\n",
    "### END HIDDEN TESTS"
   ]
  },
  {
   "cell_type": "markdown",
   "metadata": {},
   "source": [
    "[Back to top](#Index:)  \n",
    "\n",
    "### Question 9\n",
    "\n",
    "\n",
    "Define `list_6 = [10,20,30,\"Hello\", 5.82,1,\"student\", \"Python\"]` and delete the third last element on the list."
   ]
  },
  {
   "cell_type": "code",
   "execution_count": 28,
   "metadata": {},
   "outputs": [],
   "source": [
    "# GRADED\n",
    "\n",
    "\n",
    "### YOUR SOLUTION HERE\n",
    "list_6 = None\n",
    "\n",
    "### BEGIN SOLUTION\n",
    "list_6 = [10,20,30,\"Hello\", 5.82,1,\"student\", \"Python\"]\n",
    "del list_6[-2]\n",
    "### END SOLUTION"
   ]
  },
  {
   "cell_type": "code",
   "execution_count": 29,
   "metadata": {},
   "outputs": [],
   "source": [
    "### BEGIN HIDDEN TESTS\n",
    "list_6_ = [10,20,30,\"Hello\", 5.82,1,\"student\", \"Python\"]\n",
    "del list_6_[-2]\n",
    "#\n",
    "#\n",
    "#\n",
    "assert list_6 == list_6_\n",
    "### END HIDDEN TESTS"
   ]
  },
  {
   "cell_type": "markdown",
   "metadata": {},
   "source": [
    "A tuple is a collection which is ordered and **unchangeable**. In the same way as lists, tuples allow duplicate members.\n",
    "\n",
    "[Back to top](#Index:) \n",
    "\n",
    "### Question 10\n",
    "\n",
    "Create a tuple with elements from 10 to 20 and assign it to the variable 'tuple_1'. Get the first 3 values and assign them to a variable called `sliced_tuple_1`."
   ]
  },
  {
   "cell_type": "code",
   "execution_count": 30,
   "metadata": {},
   "outputs": [],
   "source": [
    "### GRADED\n",
    "\n",
    "### YOUR SOLUTION HERE\n",
    "my_tuple = None\n",
    "sliced_tuple_1 =None\n",
    "\n",
    "### BEGIN SOLUTION\n",
    "my_tuple = tuple(range(10,21))\n",
    "sliced_tuple_1 = my_tuple[:3]\n",
    "### END SOLUTION"
   ]
  },
  {
   "cell_type": "code",
   "execution_count": 31,
   "metadata": {},
   "outputs": [],
   "source": [
    "### BEGIN HIDDEN TESTS\n",
    "my_tuple_ = tuple(range(10,21))\n",
    "sliced_tuple_1_ = my_tuple_[:3]\n",
    "#\n",
    "#\n",
    "#\n",
    "assert type(my_tuple) == tuple\n",
    "assert type(sliced_tuple_1_) == tuple\n",
    "assert my_tuple_ == my_tuple\n",
    "assert sliced_tuple_1_ == sliced_tuple_1\n",
    "### END HIDDEN TESTS"
   ]
  },
  {
   "cell_type": "markdown",
   "metadata": {},
   "source": [
    "[Back to top](#Index:) \n",
    "\n",
    "### Question 11\n",
    "Create a dictionary where the keys are the strings `\"name\"` and `\"age\"` and the values are `\"Andrew\"` and `25` and assign it to a variable called `dict_1`."
   ]
  },
  {
   "cell_type": "code",
   "execution_count": 32,
   "metadata": {},
   "outputs": [],
   "source": [
    "### GRADED\n",
    "\n",
    "### YOUR SOLUTION HERE\n",
    "dict_1 = None\n",
    "\n",
    "### BEGIN SOLUTION\n",
    "dict_1 = {\"name\":\"Andrew\", \"age\":25}\n",
    "### END SOLUTION"
   ]
  },
  {
   "cell_type": "code",
   "execution_count": 33,
   "metadata": {},
   "outputs": [],
   "source": [
    "### BEGIN HIDDEN TESTS\n",
    "dict_1_ = {\"name\":\"Andrew\", \"age\":25}\n",
    "#\n",
    "#\n",
    "#\n",
    "assert type(dict_1) ==  type(dict_1_)\n",
    "assert dict_1_ == dict_1\n",
    "### END HIDDEN TESTS"
   ]
  },
  {
   "cell_type": "markdown",
   "metadata": {},
   "source": [
    "A very important data type in Python are dictonaries. A dictionary is a collection which is unordered, changeable and indexed. \n",
    "\n",
    "A dictionary holds a `key:value` pair. Each key-value pair in a dictionary is separated by `:`, whereas each key is separated by a `,`. Keys in a dictonary must be unique, values can repeat.\n",
    "\n",
    "[Back to top](#Index:) \n",
    "\n",
    "### Question 12\n",
    "Create a new key `\"city\"` in `dict_1` and assign the value `\"Seattle\"` to it."
   ]
  },
  {
   "cell_type": "code",
   "execution_count": null,
   "metadata": {},
   "outputs": [],
   "source": [
    "### GRADED\n",
    "\n",
    "### YOUR SOLUTION HERE\n",
    "\n",
    "### BEGIN SOLUTION\n",
    "dict_1[\"city\"] = \"Seattle\" \n",
    "### END SOLUTION"
   ]
  },
  {
   "cell_type": "code",
   "execution_count": null,
   "metadata": {},
   "outputs": [],
   "source": [
    "### BEGIN HIDDEN TESTS\n",
    "dict_1_[\"city\"] = \"Seattle\" \n",
    "#\n",
    "#\n",
    "#\n",
    "assert type(dict_1) ==  type(dict_1_)\n",
    "assert dict_1_ == dict_1\n",
    "### END HIDDEN TESTS"
   ]
  },
  {
   "cell_type": "markdown",
   "metadata": {},
   "source": [
    "[Back to top](#Index:) \n",
    "\n",
    "### Question 13\n",
    "Change the value of `\"city\"` to `\"New York\"` in `dict_1`. "
   ]
  },
  {
   "cell_type": "code",
   "execution_count": null,
   "metadata": {},
   "outputs": [],
   "source": [
    "### GRADED\n",
    "\n",
    "### YOUR SOLUTION HERE\n",
    "\n",
    "dict_1[\"city\"] = \"New York\"\n",
    "### END SOLUTION"
   ]
  },
  {
   "cell_type": "code",
   "execution_count": null,
   "metadata": {},
   "outputs": [],
   "source": [
    "### BEGIN HIDDEN TESTS\n",
    "dict_1_[\"city\"] = \"New York\" \n",
    "#\n",
    "#\n",
    "#\n",
    "assert type(dict_1) ==  type(dict_1_)\n",
    "assert dict_1_ == dict_1\n",
    "### END HIDDEN TESTS"
   ]
  },
  {
   "cell_type": "markdown",
   "metadata": {},
   "source": [
    "## Module 3: Functions\n",
    "\n",
    "In the second part of this assignment, we will be testing your knowledge of the topics covered in Module 3, such as Python built-in functions, user-defined functions loops and conditional statements.\n",
    "\n",
    "A function is a bundle of code which only runs when it is called. Python comes with many built-in functions. You can find a list of the functions that come with Python [here](https://docs.python.org/3/library/functions.html)."
   ]
  },
  {
   "cell_type": "markdown",
   "metadata": {},
   "source": [
    "[Back to top](#Index:) \n",
    "\n",
    "### Question 14\n",
    "\n",
    "Assign -25.82 to the variable asn13 and take the absolute value."
   ]
  },
  {
   "cell_type": "code",
   "execution_count": null,
   "metadata": {},
   "outputs": [],
   "source": [
    "### GRADED\n",
    "\n",
    "ans13 = None\n",
    "### YOUR SOLUTION HERE\n",
    "\n",
    "ans13 = -25.82\n",
    "ans13 = abs(ans13)\n",
    "### END SOLUTION"
   ]
  },
  {
   "cell_type": "code",
   "execution_count": null,
   "metadata": {},
   "outputs": [],
   "source": [
    "### BEGIN HIDDEN TEST\n",
    "ans13_ = -25.82\n",
    "ans13_ = abs(ans13)\n",
    "#\n",
    "#\n",
    "#\n",
    "assert ans13 == ans13_\n",
    "### END HIDDEN TESTS"
   ]
  },
  {
   "cell_type": "markdown",
   "metadata": {},
   "source": [
    "[Back to top](#Index:) \n",
    "\n",
    "### Question 15\n",
    "\n",
    "Assign the string \"I live in the US\" to the variable `ans14`. Next using a string method, change all the characters to lower-case letters."
   ]
  },
  {
   "cell_type": "code",
   "execution_count": null,
   "metadata": {},
   "outputs": [],
   "source": [
    "### GRADED\n",
    "\n",
    "ans14 = None\n",
    "### YOUR SOLUTION HERE\n",
    "\n",
    "ans14 = 'I live in the us'\n",
    "ans14.lower()\n",
    "### END SOLUTION"
   ]
  },
  {
   "cell_type": "code",
   "execution_count": null,
   "metadata": {},
   "outputs": [],
   "source": [
    "### BEGIN HIDDEN TEST\n",
    "ans14_ = 'I live in the us'\n",
    "ans14_.lower()\n",
    "#\n",
    "#\n",
    "#\n",
    "assert ans14_ == ans14\n",
    "### END HIDDEN TESTS"
   ]
  },
  {
   "cell_type": "markdown",
   "metadata": {},
   "source": [
    "[Back to top](#Index:) \n",
    "\n",
    "### Question 16\n",
    "\n",
    "\n",
    "Given the list list15 defined below, count how many times the word 'Europe' appears in the list"
   ]
  },
  {
   "cell_type": "code",
   "execution_count": 34,
   "metadata": {},
   "outputs": [
    {
     "data": {
      "text/plain": [
       "3"
      ]
     },
     "execution_count": 34,
     "metadata": {},
     "output_type": "execute_result"
    }
   ],
   "source": [
    "### GRADED\n",
    "list15 = ['Rome', 'Europe', 27, 'London', 'Europe', 15, 'Lima', 'South America', 28, 'Istanbul', 'Europe', 27, \n",
    "          'Sidney', 'Australia', 25, 'Tokio', 'Asia', 22]\n",
    "\n",
    "### YOUR SOLUTION HERE\n",
    "\n",
    "list15.count('Europe')\n",
    "\n",
    "### END SOLUTION"
   ]
  },
  {
   "cell_type": "code",
   "execution_count": 35,
   "metadata": {},
   "outputs": [],
   "source": [
    "### BEGIN HIDDEN TEST\n",
    "list15_ = ['Rome', 'Europe', 27, 'London', 'Europe', 15, 'Lima', 'South America', 28, 'Istanbul', 'Europe', 27, \n",
    "          'Sidney', 'Australia', 25, 'Tokio', 'Asia', 22]\n",
    "\n",
    "list15_.count('Europe')\n",
    "#\n",
    "#\n",
    "#\n",
    "assert list15.count('Europe') == list15_.count('Europe')\n",
    "### END HIDDEN TESTS"
   ]
  },
  {
   "cell_type": "markdown",
   "metadata": {},
   "source": [
    "As you write more complicated code, built-in Python functions won't be enough. For this reason, Python allows you to create user-defined function. Function are defined using the `def` keyword followed by the name of the function and the arguments you need to pass.\n",
    "\n",
    "Arguments are specified after the function name, inside parentheses. You can add as many arguments as you want, just separate them with a comma. Finally, after you wrote the block of instructions you want your function to perform, return a value using the `return` keyword."
   ]
  },
  {
   "cell_type": "markdown",
   "metadata": {},
   "source": [
    "[Back to top](#Index:) \n",
    "\n",
    "### Question 17\n",
    "Given `num_1`, `num_2` and the list `values`, write a program that appends a string `\"True\"` to `values` if `num_1` is less than 0 and appends `\"False\"` again if `num_2` is greater than 0."
   ]
  },
  {
   "cell_type": "code",
   "execution_count": 36,
   "metadata": {},
   "outputs": [],
   "source": [
    "### GRADED\n",
    "\n",
    "num_1 = -738.9\n",
    "num_2 = 11\n",
    "values =[]\n",
    "\n",
    "### YOUR SOLUTION HERE\n",
    "\n",
    "### BEGIN SOLUTION\n",
    "if num_1 < 0:\n",
    "    values.append(\"True\")\n",
    "if num_2 > 0:\n",
    "    values.append(\"False\")\n",
    "### END SOLUTION"
   ]
  },
  {
   "cell_type": "code",
   "execution_count": 37,
   "metadata": {},
   "outputs": [],
   "source": [
    "### BEGIN HIDDEN TESTS\n",
    "values_ = ['True', 'False']\n",
    "#\n",
    "#\n",
    "#\n",
    "assert type(values) == list\n",
    "assert values_ == values\n",
    "### END HIDDEN TESTS"
   ]
  },
  {
   "cell_type": "markdown",
   "metadata": {},
   "source": [
    "[Back to top](#Index:) \n",
    "\n",
    "### Question 18\n",
    "Create a program that iterates over all values of `list_mod`. The program must check each value and append the string `\"True\"` to the list `result` if the value is even or append the string `\"False\"` otherwise."
   ]
  },
  {
   "cell_type": "code",
   "execution_count": null,
   "metadata": {},
   "outputs": [],
   "source": [
    "### GRADED\n",
    "\n",
    "list_mod = list(range(1,15))\n",
    "result = []\n",
    "\n",
    "### YOUR SOLUTION HERE\n",
    "\n",
    "### BEGIN SOLUTION\n",
    "for number in list_mod:\n",
    "    if number % 2 == 0:\n",
    "        result.append(\"True\")\n",
    "    else:\n",
    "        result.append(\"False\")\n",
    "### END SOLUTION"
   ]
  },
  {
   "cell_type": "code",
   "execution_count": null,
   "metadata": {},
   "outputs": [],
   "source": [
    "### BEGIN HIDDEN TESTS\n",
    "list_mod_ = list(range(1,15))\n",
    "result_ = []\n",
    "for number in list_mod_:\n",
    "    if number % 2 == 0:\n",
    "        result_.append(\"True\")\n",
    "    else:\n",
    "        result_.append(\"False\")\n",
    "#\n",
    "#\n",
    "#\n",
    "assert type(result) == list\n",
    "assert result_ == result\n",
    "### END HIDDEN TESTS"
   ]
  },
  {
   "cell_type": "markdown",
   "metadata": {},
   "source": [
    "[Back to top](#Index:) \n",
    "\n",
    "### Question 19\n",
    "Create a list called `time` with elements from 7 to 24. Create a program that appends `\"Good morning\"` to `result_time` if an element in the list `time` is _less than or equal to 12_, `\"Good afternoon\"` if an element is _less than 20_, and otherwise appends `\"Good night\"`."
   ]
  },
  {
   "cell_type": "code",
   "execution_count": null,
   "metadata": {},
   "outputs": [],
   "source": [
    "### GRADED\n",
    "\n",
    "time = list(range(7,25))\n",
    "result_time = []\n",
    "\n",
    "### YOUR SOLUTION HERE\n",
    "\n",
    "### BEGIN SOLUTION\n",
    "for hour in time:\n",
    "    if hour <= 12:\n",
    "        result_time.append(\"Good morning\")\n",
    "    elif hour < 20:\n",
    "        result_time.append(\"Good afternoon\")\n",
    "    else:\n",
    "        result_time.append(\"Good night\")\n",
    "### END SOLUTION"
   ]
  },
  {
   "cell_type": "code",
   "execution_count": null,
   "metadata": {},
   "outputs": [],
   "source": [
    "### BEGIN HIDDEN TESTS\n",
    "time_ = list(range(7,25))\n",
    "result_time_ = []\n",
    "\n",
    "for hour in time_:\n",
    "    if hour <= 12:\n",
    "        result_time_.append(\"Good morning\")\n",
    "    elif hour < 20:\n",
    "        result_time_.append(\"Good afternoon\")\n",
    "    else:\n",
    "        result_time_.append(\"Good night\")\n",
    "#\n",
    "#\n",
    "#\n",
    "assert type(result_time) == list\n",
    "assert result_time_ == result_time\n",
    "### END HIDDEN TESTS"
   ]
  },
  {
   "cell_type": "markdown",
   "metadata": {},
   "source": [
    "[Back to top](#Index:) \n",
    "\n",
    "### Question 20\n",
    "Create a function called `validate` that checks whether the variable `x` is even or odd. If it's even, return the string `\"even\"`; if it's odd, return the string `\"odd\"`."
   ]
  },
  {
   "cell_type": "code",
   "execution_count": null,
   "metadata": {},
   "outputs": [],
   "source": [
    "### GRADED\n",
    "\n",
    "### YOUR SOLUTION HERE\n",
    "def validate(x):\n",
    "    return\n",
    "\n",
    "### BEGIN SOLUTION\n",
    "def validate(x):\n",
    "    if (x % 2 == 0): \n",
    "        return \"even\"\n",
    "    else: \n",
    "        return \"odd\"\n",
    "### END SOLUTION"
   ]
  },
  {
   "cell_type": "code",
   "execution_count": null,
   "metadata": {},
   "outputs": [],
   "source": [
    "### BEGIN HIDDEN TESTS\n",
    "def validate_(x):\n",
    "    if (x % 2 == 0): \n",
    "        return \"even\"\n",
    "    else: \n",
    "        return \"odd\"\n",
    "#\n",
    "#\n",
    "#\n",
    "assert validate_(10) == validate(10)\n",
    "assert validate_(7) == validate(7)\n",
    "### END HIDDEN TESTS"
   ]
  },
  {
   "cell_type": "markdown",
   "metadata": {},
   "source": [
    "[Back to top](#Index:) \n",
    "\n",
    "### Question 21\n",
    "Create a function called `abs_value` that takes a number and returns the absolute value of it."
   ]
  },
  {
   "cell_type": "code",
   "execution_count": null,
   "metadata": {},
   "outputs": [],
   "source": [
    "### GRADED\n",
    "\n",
    "### YOUR SOLUTION HERE\n",
    "def abs_value(x):\n",
    "    return\n",
    "\n",
    "### BEGIN SOLUTION\n",
    "def abs_value(x):\n",
    "    if x >= 0:\n",
    "        return x\n",
    "    else:\n",
    "        return -x\n",
    "\n",
    "### END SOLUTION"
   ]
  },
  {
   "cell_type": "code",
   "execution_count": null,
   "metadata": {},
   "outputs": [],
   "source": [
    "### BEGIN HIDDEN TESTS\n",
    "def abs_value_(num):\n",
    "    if num >= 0:\n",
    "        return num\n",
    "    else:\n",
    "        return -num\n",
    "#\n",
    "#\n",
    "#\n",
    "assert abs_value_(10) == abs_value(10)\n",
    "assert abs_value_(-5) == abs_value(-5)\n",
    "assert abs_value_(0) == abs_value(0)\n",
    "### END HIDDEN TESTS"
   ]
  }
 ],
 "metadata": {
  "kernelspec": {
   "display_name": "Python 3",
   "language": "python",
   "name": "python3"
  },
  "language_info": {
   "codemirror_mode": {
    "name": "ipython",
    "version": 3
   },
   "file_extension": ".py",
   "mimetype": "text/x-python",
   "name": "python",
   "nbconvert_exporter": "python",
   "pygments_lexer": "ipython3",
   "version": "3.7.4"
  }
 },
 "nbformat": 4,
 "nbformat_minor": 2
}
